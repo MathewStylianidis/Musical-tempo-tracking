{
 "cells": [
  {
   "cell_type": "markdown",
   "id": "58a6feaf",
   "metadata": {},
   "source": [
    "# Notebook content \n",
    "* Loading GMD dataset\n",
    "* Playing example audio\n",
    "* Dataset statistics before and after discarding samples\n",
    "* Extracting MIDI onset times (observations)\n",
    "* Tuning Kalman Filter parameters on training dataset"
   ]
  },
  {
   "cell_type": "markdown",
   "id": "c54843a1",
   "metadata": {},
   "source": [
    "### Import packages"
   ]
  },
  {
   "cell_type": "code",
   "execution_count": 42,
   "id": "e0b108bf",
   "metadata": {},
   "outputs": [],
   "source": [
    "import IPython.display\n",
    "import os\n",
    "import sys\n",
    "\n",
    "import matplotlib.pyplot as plt\n",
    "import numpy as np\n",
    "\n",
    "sys.path.append(os.path.join(\"..\", \"src\"))\n",
    "\n",
    "from data_loader import GmdDataLoader\n",
    "from switching_kalman_filter_tracker import SwitchingKalmanFilterTracker\n",
    "from tracker_evaluator import TrackerEvaluator"
   ]
  },
  {
   "cell_type": "markdown",
   "id": "5b7baf05",
   "metadata": {},
   "source": [
    "### Define paths"
   ]
  },
  {
   "cell_type": "code",
   "execution_count": 2,
   "id": "d0cc6f76",
   "metadata": {},
   "outputs": [],
   "source": [
    "data_root_path = os.path.join(\"..\", \"data\")\n",
    "dataset_root_path = os.path.join(data_root_path, \"groove\")"
   ]
  },
  {
   "cell_type": "markdown",
   "id": "6911d554",
   "metadata": {},
   "source": [
    "### Define constants "
   ]
  },
  {
   "cell_type": "code",
   "execution_count": 3,
   "id": "ffe683c8",
   "metadata": {},
   "outputs": [],
   "source": [
    "min_duration = 30.0"
   ]
  },
  {
   "cell_type": "markdown",
   "id": "4af1b8e6",
   "metadata": {},
   "source": [
    "### Create generator for audio files"
   ]
  },
  {
   "cell_type": "code",
   "execution_count": 4,
   "id": "fe28e381",
   "metadata": {},
   "outputs": [],
   "source": [
    "groove_data_loader = GmdDataLoader(dataset_root_path)"
   ]
  },
  {
   "cell_type": "code",
   "execution_count": 5,
   "id": "bbf36c4d",
   "metadata": {},
   "outputs": [],
   "source": [
    "train_data_generator = groove_data_loader.get_data(split=GmdDataLoader.TRAIN_SPLIT, min_duration=min_duration, \n",
    "                                                  get_midi_onsets=True)\n",
    "val_data_generator = groove_data_loader.get_data(split=GmdDataLoader.VALIDATION_SPLIT, min_duration=min_duration, \n",
    "                                                  get_midi_onsets=True)\n",
    "test_data_generator = groove_data_loader.get_data(split=GmdDataLoader.TEST_SPLIT, min_duration=min_duration, \n",
    "                                                  get_midi_onsets=True)"
   ]
  },
  {
   "cell_type": "markdown",
   "id": "20e5f8ba",
   "metadata": {},
   "source": [
    "### Get dataset statistics"
   ]
  },
  {
   "cell_type": "code",
   "execution_count": 6,
   "id": "4a115681",
   "metadata": {},
   "outputs": [
    {
     "name": "stdout",
     "output_type": "stream",
     "text": [
      "Number of samples before discarding stage - Total samples: 1150 - Training samples: 897 - Validation samples: 124 - Test samples: 129\n",
      "Number of samples after discarding stage - Total samples: 346 - Training samples: 250 - Validation samples: 41 - Test samples: 55\n"
     ]
    }
   ],
   "source": [
    "original_n = groove_data_loader.get_dataset_size()\n",
    "original_train_n = groove_data_loader.get_dataset_size(split=\"train\")\n",
    "original_validation_n = groove_data_loader.get_dataset_size(split=\"validation\")\n",
    "original_test_n = groove_data_loader.get_dataset_size(split=\"test\")\n",
    "print((\"Number of samples before discarding stage - Total samples: {} - Training samples: {} - Validation samples: {} - \" + \n",
    "      \"Test samples: {}\").format(original_n, original_train_n, original_validation_n, original_test_n))\n",
    "n = groove_data_loader.get_dataset_size(min_duration = min_duration)\n",
    "train_n = groove_data_loader.get_dataset_size(split=\"train\", min_duration = min_duration)\n",
    "validation_n = groove_data_loader.get_dataset_size(split=\"validation\", min_duration = min_duration)\n",
    "test_n = groove_data_loader.get_dataset_size(split=\"test\", min_duration = min_duration)\n",
    "print((\"Number of samples after discarding stage - Total samples: {} - Training samples: {} - Validation samples: {} - \" + \n",
    "      \"Test samples: {}\").format(n, train_n, validation_n, test_n))"
   ]
  },
  {
   "cell_type": "markdown",
   "id": "ddc51d37",
   "metadata": {},
   "source": [
    "### Extract all training onset times from MIDI file"
   ]
  },
  {
   "cell_type": "code",
   "execution_count": 7,
   "id": "a99c71a9",
   "metadata": {},
   "outputs": [
    {
     "name": "stderr",
     "output_type": "stream",
     "text": [
      "C:\\Users\\matts\\AppData\\Local\\Temp/ipykernel_24288/1993576370.py:12: VisibleDeprecationWarning: Creating an ndarray from ragged nested sequences (which is a list-or-tuple of lists-or-tuples-or ndarrays with different lengths or shapes) is deprecated. If you meant to do this, you must specify 'dtype=object' when creating the ndarray.\n",
      "  X_train = np.array(X_train)\n"
     ]
    }
   ],
   "source": [
    "X_train = []\n",
    "meta_data_rows = []\n",
    "start_times = []\n",
    "for x, meta_data_row, start_time in train_data_generator:\n",
    "    X_train.append(x)\n",
    "    meta_data_rows.append(meta_data_row)\n",
    "    start_times.append(start_time)\n",
    "for x, meta_data_row, start_time in val_data_generator:\n",
    "    X_train.append(x)\n",
    "    meta_data_rows.append(meta_data_row)\n",
    "    start_times.append(start_time)    \n",
    "X_train = np.array(X_train)"
   ]
  },
  {
   "cell_type": "markdown",
   "id": "2ad600f2",
   "metadata": {},
   "source": [
    "### Extract all test onset times from MIDI file"
   ]
  },
  {
   "cell_type": "code",
   "execution_count": 8,
   "id": "812b1fda",
   "metadata": {
    "scrolled": false
   },
   "outputs": [
    {
     "name": "stderr",
     "output_type": "stream",
     "text": [
      "C:\\Users\\matts\\AppData\\Local\\Temp/ipykernel_24288/2084935150.py:8: VisibleDeprecationWarning: Creating an ndarray from ragged nested sequences (which is a list-or-tuple of lists-or-tuples-or ndarrays with different lengths or shapes) is deprecated. If you meant to do this, you must specify 'dtype=object' when creating the ndarray.\n",
      "  X_test = np.array(X_test)\n"
     ]
    }
   ],
   "source": [
    "X_test = []\n",
    "meta_data_rows_test = []\n",
    "start_times_test = []\n",
    "for x, meta_data_row, start_time in test_data_generator:\n",
    "    X_test.append(x)\n",
    "    meta_data_rows_test.append(meta_data_row)\n",
    "    start_times_test.append(start_time)\n",
    "X_test = np.array(X_test)    "
   ]
  },
  {
   "cell_type": "markdown",
   "id": "d583900b",
   "metadata": {},
   "source": [
    "### Tune switching state model for when using the ideal switching variable value. "
   ]
  },
  {
   "cell_type": "code",
   "execution_count": 9,
   "id": "78b3a292",
   "metadata": {},
   "outputs": [],
   "source": [
    "tune_params = False"
   ]
  },
  {
   "cell_type": "code",
   "execution_count": 10,
   "id": "d1a98f24",
   "metadata": {},
   "outputs": [],
   "source": [
    "y_train = [x[\"bpm\"] for x in meta_data_rows]\n",
    "y_test = [x[\"bpm\"] for x in meta_data_rows_test]"
   ]
  },
  {
   "cell_type": "code",
   "execution_count": 11,
   "id": "04c6bf18",
   "metadata": {
    "scrolled": true
   },
   "outputs": [],
   "source": [
    "if tune_params:\n",
    "    onset_process_noise_std_vals = [0.005, 0.01, 0.05, 0.1, 0.2]\n",
    "    tempo_process_noise_std_vals = [0.005, 0.01, 0.05, 0.1, 0.2]\n",
    "    measurement_noise_std_vals = [0.01, 0.1, 0.2]\n",
    "    evaluator = TrackerEvaluator()\n",
    "    best_accuracy = -1\n",
    "    for onset_noise in onset_process_noise_std_vals:\n",
    "        for tempo_noise in tempo_process_noise_std_vals:\n",
    "            for measurement_noise in measurement_noise_std_vals:\n",
    "                # Create argument dictionary\n",
    "                kwargs = {\n",
    "                    \"onset_process_noise_std\": onset_noise,\n",
    "                    \"tempo_process_noise_std\": tempo_noise,\n",
    "                    \"measurement_noise_std\": measurement_noise,\n",
    "                    \"use_ideal_switch_value\": True\n",
    "                }\n",
    "                # Evaluate\n",
    "                accuracy = evaluator.evaluate(SwitchingKalmanFilterTracker, X_train, y_train, **kwargs)\n",
    "                # Report metric if better than any other previous results\n",
    "                if accuracy > best_accuracy:\n",
    "                    print(\"Best accuracy so far: {}\".format(accuracy))\n",
    "                    print(\"Arguments: {}\".format(str(kwargs)))\n",
    "                    best_accuracy = accuracy\n",
    "                    best_params = kwargs"
   ]
  },
  {
   "cell_type": "markdown",
   "id": "e6e7c988",
   "metadata": {},
   "source": [
    "### Evaluate on test set"
   ]
  },
  {
   "cell_type": "code",
   "execution_count": 12,
   "id": "8aabe16c",
   "metadata": {},
   "outputs": [],
   "source": [
    "evaluator = TrackerEvaluator()\n",
    "kwargs = {\n",
    "    \"onset_process_noise_std\": 0.01,\n",
    "    \"tempo_process_noise_std\": 0.005,\n",
    "    \"measurement_noise_std\": 0.1,\n",
    "    \"use_ideal_switch_value\": True\n",
    "}"
   ]
  },
  {
   "cell_type": "code",
   "execution_count": 13,
   "id": "390a115e",
   "metadata": {},
   "outputs": [],
   "source": [
    "accuracy = evaluator.evaluate(SwitchingKalmanFilterTracker, X_test, y_test, **kwargs)"
   ]
  },
  {
   "cell_type": "code",
   "execution_count": 14,
   "id": "414bc422",
   "metadata": {},
   "outputs": [
    {
     "name": "stdout",
     "output_type": "stream",
     "text": [
      "Test accuracy for ideal switch variable computation 0.8363636363636363\n"
     ]
    }
   ],
   "source": [
    "print(\"Test accuracy for ideal switch variable computation {}\".format(accuracy))"
   ]
  },
  {
   "cell_type": "markdown",
   "id": "0ea7fff2",
   "metadata": {},
   "source": [
    "### Tune PF parameters"
   ]
  },
  {
   "cell_type": "code",
   "execution_count": 15,
   "id": "95f268ea",
   "metadata": {},
   "outputs": [],
   "source": [
    "tune_pf = True"
   ]
  },
  {
   "cell_type": "code",
   "execution_count": 16,
   "id": "028e6062",
   "metadata": {},
   "outputs": [
    {
     "name": "stderr",
     "output_type": "stream",
     "text": [
      "C:\\Users\\matts\\Desktop\\KTH\\EL 2320 - Applied Estimation\\Project\\Probabilistic-tempo-tracking\\notebooks\\..\\src\\switching_kalman_filter_tracker.py:211: RuntimeWarning: divide by zero encountered in true_divide\n",
      "  ideal_score = (onset_time - prev_estimated_onset) / prev_estimated_tempo\n"
     ]
    },
    {
     "name": "stdout",
     "output_type": "stream",
     "text": [
      "Best accuracy so far: 0.13402061855670103\n",
      "Arguments: {'onset_process_noise_std': 0.005, 'tempo_process_noise_std': 0.005, 'measurement_noise_std': 0.01, 'use_ideal_switch_value': False}\n",
      "Best accuracy so far: 0.15463917525773196\n",
      "Arguments: {'onset_process_noise_std': 0.005, 'tempo_process_noise_std': 0.005, 'measurement_noise_std': 0.1, 'use_ideal_switch_value': False}\n",
      "Best accuracy so far: 0.15807560137457044\n",
      "Arguments: {'onset_process_noise_std': 0.005, 'tempo_process_noise_std': 0.1, 'measurement_noise_std': 0.2, 'use_ideal_switch_value': False}\n",
      "Best accuracy so far: 0.17525773195876287\n",
      "Arguments: {'onset_process_noise_std': 0.005, 'tempo_process_noise_std': 0.2, 'measurement_noise_std': 0.2, 'use_ideal_switch_value': False}\n",
      "Best accuracy so far: 0.17869415807560138\n",
      "Arguments: {'onset_process_noise_std': 0.01, 'tempo_process_noise_std': 0.01, 'measurement_noise_std': 0.2, 'use_ideal_switch_value': False}\n"
     ]
    },
    {
     "ename": "KeyboardInterrupt",
     "evalue": "",
     "output_type": "error",
     "traceback": [
      "\u001b[1;31m---------------------------------------------------------------------------\u001b[0m",
      "\u001b[1;31mKeyboardInterrupt\u001b[0m                         Traceback (most recent call last)",
      "\u001b[1;32m~\\AppData\\Local\\Temp/ipykernel_24288/147871926.py\u001b[0m in \u001b[0;36m<module>\u001b[1;34m\u001b[0m\n\u001b[0;32m     16\u001b[0m                 }\n\u001b[0;32m     17\u001b[0m                 \u001b[1;31m# Evaluate\u001b[0m\u001b[1;33m\u001b[0m\u001b[1;33m\u001b[0m\u001b[0m\n\u001b[1;32m---> 18\u001b[1;33m                 \u001b[0maccuracy\u001b[0m \u001b[1;33m=\u001b[0m \u001b[0mevaluator\u001b[0m\u001b[1;33m.\u001b[0m\u001b[0mevaluate\u001b[0m\u001b[1;33m(\u001b[0m\u001b[0mSwitchingKalmanFilterTracker\u001b[0m\u001b[1;33m,\u001b[0m \u001b[0mX_train\u001b[0m\u001b[1;33m,\u001b[0m \u001b[0my_train\u001b[0m\u001b[1;33m,\u001b[0m \u001b[1;33m**\u001b[0m\u001b[0mkwargs\u001b[0m\u001b[1;33m)\u001b[0m\u001b[1;33m\u001b[0m\u001b[1;33m\u001b[0m\u001b[0m\n\u001b[0m\u001b[0;32m     19\u001b[0m                 \u001b[1;31m# Report metric if better than any other previous results\u001b[0m\u001b[1;33m\u001b[0m\u001b[1;33m\u001b[0m\u001b[0m\n\u001b[0;32m     20\u001b[0m                 \u001b[1;32mif\u001b[0m \u001b[0maccuracy\u001b[0m \u001b[1;33m>\u001b[0m \u001b[0mbest_accuracy\u001b[0m\u001b[1;33m:\u001b[0m\u001b[1;33m\u001b[0m\u001b[1;33m\u001b[0m\u001b[0m\n",
      "\u001b[1;32m~\\Desktop\\KTH\\EL 2320 - Applied Estimation\\Project\\Probabilistic-tempo-tracking\\notebooks\\..\\src\\tracker_evaluator.py\u001b[0m in \u001b[0;36mevaluate\u001b[1;34m(self, tracker_class, X_train, y_train, **kwargs)\u001b[0m\n\u001b[0;32m     12\u001b[0m             \u001b[0mtempo_tracker\u001b[0m \u001b[1;33m=\u001b[0m \u001b[0mtracker_class\u001b[0m\u001b[1;33m(\u001b[0m\u001b[1;33m**\u001b[0m\u001b[0mkwargs\u001b[0m\u001b[1;33m)\u001b[0m\u001b[1;33m\u001b[0m\u001b[1;33m\u001b[0m\u001b[0m\n\u001b[0;32m     13\u001b[0m             \u001b[1;32mfor\u001b[0m \u001b[0monset\u001b[0m \u001b[1;32min\u001b[0m \u001b[0mx\u001b[0m\u001b[1;33m:\u001b[0m\u001b[1;33m\u001b[0m\u001b[1;33m\u001b[0m\u001b[0m\n\u001b[1;32m---> 14\u001b[1;33m                 \u001b[0mtempo_tracker\u001b[0m\u001b[1;33m.\u001b[0m\u001b[0mrun\u001b[0m\u001b[1;33m(\u001b[0m\u001b[0monset\u001b[0m\u001b[1;33m)\u001b[0m\u001b[1;33m\u001b[0m\u001b[1;33m\u001b[0m\u001b[0m\n\u001b[0m\u001b[0;32m     15\u001b[0m             \u001b[1;31m# Get last tempo estimate in BPM\u001b[0m\u001b[1;33m\u001b[0m\u001b[1;33m\u001b[0m\u001b[0m\n\u001b[0;32m     16\u001b[0m             \u001b[0mlast_tempo_estimate\u001b[0m \u001b[1;33m=\u001b[0m \u001b[0mtempo_tracker\u001b[0m\u001b[1;33m.\u001b[0m\u001b[0mget_tempo_estimates\u001b[0m\u001b[1;33m(\u001b[0m\u001b[1;33m)\u001b[0m\u001b[1;33m[\u001b[0m\u001b[1;33m-\u001b[0m\u001b[1;36m1\u001b[0m\u001b[1;33m]\u001b[0m\u001b[1;33m\u001b[0m\u001b[1;33m\u001b[0m\u001b[0m\n",
      "\u001b[1;32m~\\Desktop\\KTH\\EL 2320 - Applied Estimation\\Project\\Probabilistic-tempo-tracking\\notebooks\\..\\src\\switching_kalman_filter_tracker.py\u001b[0m in \u001b[0;36mrun\u001b[1;34m(self, onset_time)\u001b[0m\n\u001b[0;32m    173\u001b[0m             \u001b[1;31m# Prune expanded states according to likelihood if PF is used\u001b[0m\u001b[1;33m\u001b[0m\u001b[1;33m\u001b[0m\u001b[0m\n\u001b[0;32m    174\u001b[0m             \u001b[1;32mif\u001b[0m \u001b[1;32mnot\u001b[0m \u001b[0mself\u001b[0m\u001b[1;33m.\u001b[0m\u001b[0muse_ideal_switch_value\u001b[0m\u001b[1;33m:\u001b[0m\u001b[1;33m\u001b[0m\u001b[1;33m\u001b[0m\u001b[0m\n\u001b[1;32m--> 175\u001b[1;33m                 \u001b[0mself\u001b[0m\u001b[1;33m.\u001b[0m\u001b[0mprune_states\u001b[0m\u001b[1;33m(\u001b[0m\u001b[0monset_time\u001b[0m\u001b[1;33m)\u001b[0m\u001b[1;33m\u001b[0m\u001b[1;33m\u001b[0m\u001b[0m\n\u001b[0m\u001b[0;32m    176\u001b[0m             \u001b[1;31m# Update Kalman Gain\u001b[0m\u001b[1;33m\u001b[0m\u001b[1;33m\u001b[0m\u001b[0m\n\u001b[0;32m    177\u001b[0m             \u001b[0mself\u001b[0m\u001b[1;33m.\u001b[0m\u001b[0mcompute_kalman_gain\u001b[0m\u001b[1;33m(\u001b[0m\u001b[1;33m)\u001b[0m\u001b[1;33m\u001b[0m\u001b[1;33m\u001b[0m\u001b[0m\n",
      "\u001b[1;32m~\\Desktop\\KTH\\EL 2320 - Applied Estimation\\Project\\Probabilistic-tempo-tracking\\notebooks\\..\\src\\switching_kalman_filter_tracker.py\u001b[0m in \u001b[0;36mprune_states\u001b[1;34m(self, onset_time)\u001b[0m\n\u001b[0;32m    134\u001b[0m \u001b[1;33m\u001b[0m\u001b[0m\n\u001b[0;32m    135\u001b[0m         \u001b[1;31m# Get the particles with the highest likelihoods\u001b[0m\u001b[1;33m\u001b[0m\u001b[1;33m\u001b[0m\u001b[0m\n\u001b[1;32m--> 136\u001b[1;33m         \u001b[0mmax_likelihood_arg\u001b[0m \u001b[1;33m=\u001b[0m \u001b[0mnp\u001b[0m\u001b[1;33m.\u001b[0m\u001b[0margpartition\u001b[0m\u001b[1;33m(\u001b[0m\u001b[0mlikelihoods\u001b[0m\u001b[1;33m,\u001b[0m \u001b[1;33m-\u001b[0m\u001b[0mself\u001b[0m\u001b[1;33m.\u001b[0m\u001b[0mparticle_no\u001b[0m\u001b[1;33m)\u001b[0m\u001b[1;33m[\u001b[0m\u001b[1;33m-\u001b[0m\u001b[0mself\u001b[0m\u001b[1;33m.\u001b[0m\u001b[0mparticle_no\u001b[0m\u001b[1;33m:\u001b[0m\u001b[1;33m]\u001b[0m\u001b[1;33m\u001b[0m\u001b[1;33m\u001b[0m\u001b[0m\n\u001b[0m\u001b[0;32m    137\u001b[0m         \u001b[1;32mfor\u001b[0m \u001b[0mi\u001b[0m \u001b[1;32min\u001b[0m \u001b[0mrange\u001b[0m\u001b[1;33m(\u001b[0m\u001b[0mself\u001b[0m\u001b[1;33m.\u001b[0m\u001b[0mparticle_no\u001b[0m\u001b[1;33m)\u001b[0m\u001b[1;33m:\u001b[0m\u001b[1;33m\u001b[0m\u001b[1;33m\u001b[0m\u001b[0m\n\u001b[0;32m    138\u001b[0m             \u001b[0mself\u001b[0m\u001b[1;33m.\u001b[0m\u001b[0mstate\u001b[0m\u001b[1;33m[\u001b[0m\u001b[0mi\u001b[0m\u001b[1;33m]\u001b[0m \u001b[1;33m=\u001b[0m \u001b[0mself\u001b[0m\u001b[1;33m.\u001b[0m\u001b[0mexpanded_state\u001b[0m\u001b[1;33m[\u001b[0m\u001b[0mmax_likelihood_arg\u001b[0m\u001b[1;33m[\u001b[0m\u001b[0mi\u001b[0m\u001b[1;33m]\u001b[0m\u001b[1;33m]\u001b[0m\u001b[1;33m\u001b[0m\u001b[1;33m\u001b[0m\u001b[0m\n",
      "\u001b[1;32m<__array_function__ internals>\u001b[0m in \u001b[0;36margpartition\u001b[1;34m(*args, **kwargs)\u001b[0m\n",
      "\u001b[1;32m~\\anaconda3\\lib\\site-packages\\numpy\\core\\fromnumeric.py\u001b[0m in \u001b[0;36margpartition\u001b[1;34m(a, kth, axis, kind, order)\u001b[0m\n\u001b[0;32m    835\u001b[0m \u001b[1;33m\u001b[0m\u001b[0m\n\u001b[0;32m    836\u001b[0m     \"\"\"\n\u001b[1;32m--> 837\u001b[1;33m     \u001b[1;32mreturn\u001b[0m \u001b[0m_wrapfunc\u001b[0m\u001b[1;33m(\u001b[0m\u001b[0ma\u001b[0m\u001b[1;33m,\u001b[0m \u001b[1;34m'argpartition'\u001b[0m\u001b[1;33m,\u001b[0m \u001b[0mkth\u001b[0m\u001b[1;33m,\u001b[0m \u001b[0maxis\u001b[0m\u001b[1;33m=\u001b[0m\u001b[0maxis\u001b[0m\u001b[1;33m,\u001b[0m \u001b[0mkind\u001b[0m\u001b[1;33m=\u001b[0m\u001b[0mkind\u001b[0m\u001b[1;33m,\u001b[0m \u001b[0morder\u001b[0m\u001b[1;33m=\u001b[0m\u001b[0morder\u001b[0m\u001b[1;33m)\u001b[0m\u001b[1;33m\u001b[0m\u001b[1;33m\u001b[0m\u001b[0m\n\u001b[0m\u001b[0;32m    838\u001b[0m \u001b[1;33m\u001b[0m\u001b[0m\n\u001b[0;32m    839\u001b[0m \u001b[1;33m\u001b[0m\u001b[0m\n",
      "\u001b[1;32m~\\anaconda3\\lib\\site-packages\\numpy\\core\\fromnumeric.py\u001b[0m in \u001b[0;36m_wrapfunc\u001b[1;34m(obj, method, *args, **kwds)\u001b[0m\n\u001b[0;32m     56\u001b[0m \u001b[1;33m\u001b[0m\u001b[0m\n\u001b[0;32m     57\u001b[0m     \u001b[1;32mtry\u001b[0m\u001b[1;33m:\u001b[0m\u001b[1;33m\u001b[0m\u001b[1;33m\u001b[0m\u001b[0m\n\u001b[1;32m---> 58\u001b[1;33m         \u001b[1;32mreturn\u001b[0m \u001b[0mbound\u001b[0m\u001b[1;33m(\u001b[0m\u001b[1;33m*\u001b[0m\u001b[0margs\u001b[0m\u001b[1;33m,\u001b[0m \u001b[1;33m**\u001b[0m\u001b[0mkwds\u001b[0m\u001b[1;33m)\u001b[0m\u001b[1;33m\u001b[0m\u001b[1;33m\u001b[0m\u001b[0m\n\u001b[0m\u001b[0;32m     59\u001b[0m     \u001b[1;32mexcept\u001b[0m \u001b[0mTypeError\u001b[0m\u001b[1;33m:\u001b[0m\u001b[1;33m\u001b[0m\u001b[1;33m\u001b[0m\u001b[0m\n\u001b[0;32m     60\u001b[0m         \u001b[1;31m# A TypeError occurs if the object does have such a method in its\u001b[0m\u001b[1;33m\u001b[0m\u001b[1;33m\u001b[0m\u001b[0m\n",
      "\u001b[1;31mKeyboardInterrupt\u001b[0m: "
     ]
    }
   ],
   "source": [
    "if tune_pf:\n",
    "    onset_process_noise_std_vals = [0.005, 0.01, 0.05, 0.1, 0.2]\n",
    "    tempo_process_noise_std_vals = [0.005, 0.01, 0.05, 0.1, 0.2]\n",
    "    measurement_noise_std_vals = [0.01, 0.1, 0.2]\n",
    "    evaluator = TrackerEvaluator()\n",
    "    best_accuracy = -1\n",
    "    for onset_noise in onset_process_noise_std_vals:\n",
    "        for tempo_noise in tempo_process_noise_std_vals:\n",
    "            for measurement_noise in measurement_noise_std_vals:\n",
    "                # Create argument dictionary\n",
    "                kwargs = {\n",
    "                    \"onset_process_noise_std\": onset_noise,\n",
    "                    \"tempo_process_noise_std\": tempo_noise,\n",
    "                    \"measurement_noise_std\": measurement_noise,\n",
    "                    \"use_ideal_switch_value\": False\n",
    "                }\n",
    "                # Evaluate\n",
    "                accuracy = evaluator.evaluate(SwitchingKalmanFilterTracker, X_train, y_train, **kwargs)\n",
    "                # Report metric if better than any other previous results\n",
    "                if accuracy > best_accuracy:\n",
    "                    print(\"Best accuracy so far: {}\".format(accuracy))\n",
    "                    print(\"Arguments: {}\".format(str(kwargs)))\n",
    "                    best_accuracy = accuracy\n",
    "                    best_params = kwargs"
   ]
  },
  {
   "cell_type": "markdown",
   "id": "f59dc935",
   "metadata": {},
   "source": [
    "### Evaluate on test set"
   ]
  },
  {
   "cell_type": "code",
   "execution_count": 17,
   "id": "4bc4aa6f",
   "metadata": {},
   "outputs": [],
   "source": [
    "evaluator = TrackerEvaluator()\n",
    "kwargs = {\n",
    "    \"onset_process_noise_std\": 0.01,\n",
    "    \"tempo_process_noise_std\": 0.01,\n",
    "    \"measurement_noise_std\": 0.2,\n",
    "    \"use_ideal_switch_value\": False\n",
    "}\n",
    "kwargs = best_params"
   ]
  },
  {
   "cell_type": "code",
   "execution_count": 19,
   "id": "354b7dd8",
   "metadata": {
    "scrolled": false
   },
   "outputs": [],
   "source": [
    "accuracy = evaluator.evaluate(SwitchingKalmanFilterTracker, X_test, y_test, **kwargs)"
   ]
  },
  {
   "cell_type": "code",
   "execution_count": 20,
   "id": "739ee818",
   "metadata": {},
   "outputs": [
    {
     "name": "stdout",
     "output_type": "stream",
     "text": [
      "0.09090909090909091\n"
     ]
    }
   ],
   "source": [
    "print(accuracy)"
   ]
  }
 ],
 "metadata": {
  "kernelspec": {
   "display_name": "Python 3 (ipykernel)",
   "language": "python",
   "name": "python3"
  },
  "language_info": {
   "codemirror_mode": {
    "name": "ipython",
    "version": 3
   },
   "file_extension": ".py",
   "mimetype": "text/x-python",
   "name": "python",
   "nbconvert_exporter": "python",
   "pygments_lexer": "ipython3",
   "version": "3.9.7"
  }
 },
 "nbformat": 4,
 "nbformat_minor": 5
}
