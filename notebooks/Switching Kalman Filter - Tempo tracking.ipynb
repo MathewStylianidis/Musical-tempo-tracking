{
 "cells": [
  {
   "cell_type": "markdown",
   "id": "58a6feaf",
   "metadata": {},
   "source": [
    "# Notebook content \n",
    "* Loading GMD dataset\n",
    "* Playing example audio\n",
    "* Dataset statistics before and after discarding samples\n",
    "* Extracting MIDI onset times (observations)\n",
    "* Tuning Kalman Filter parameters on training dataset"
   ]
  },
  {
   "cell_type": "markdown",
   "id": "c54843a1",
   "metadata": {},
   "source": [
    "### Import packages"
   ]
  },
  {
   "cell_type": "code",
   "execution_count": 1,
   "id": "e0b108bf",
   "metadata": {},
   "outputs": [],
   "source": [
    "import IPython.display\n",
    "import os\n",
    "import sys\n",
    "\n",
    "import matplotlib.pyplot as plt\n",
    "import numpy as np\n",
    "\n",
    "sys.path.append(os.path.join(\"..\", \"src\"))\n",
    "\n",
    "from data_loader import GmdDataLoader\n",
    "from switching_kalman_filter_tracker import SwitchingKalmanFilterTracker\n",
    "from tracker_evaluator import TrackerEvaluator"
   ]
  },
  {
   "cell_type": "markdown",
   "id": "5b7baf05",
   "metadata": {},
   "source": [
    "### Define paths"
   ]
  },
  {
   "cell_type": "code",
   "execution_count": 2,
   "id": "d0cc6f76",
   "metadata": {},
   "outputs": [],
   "source": [
    "data_root_path = os.path.join(\"..\", \"data\")\n",
    "dataset_root_path = os.path.join(data_root_path, \"groove\")"
   ]
  },
  {
   "cell_type": "markdown",
   "id": "6911d554",
   "metadata": {},
   "source": [
    "### Define constants "
   ]
  },
  {
   "cell_type": "code",
   "execution_count": 3,
   "id": "ffe683c8",
   "metadata": {},
   "outputs": [],
   "source": [
    "min_duration = 30.0"
   ]
  },
  {
   "cell_type": "markdown",
   "id": "4af1b8e6",
   "metadata": {},
   "source": [
    "### Create generator for audio files"
   ]
  },
  {
   "cell_type": "code",
   "execution_count": 4,
   "id": "fe28e381",
   "metadata": {},
   "outputs": [],
   "source": [
    "groove_data_loader = GmdDataLoader(dataset_root_path)"
   ]
  },
  {
   "cell_type": "code",
   "execution_count": 5,
   "id": "bbf36c4d",
   "metadata": {},
   "outputs": [],
   "source": [
    "train_data_generator = groove_data_loader.get_data(split=GmdDataLoader.TRAIN_SPLIT, min_duration=min_duration, \n",
    "                                                  get_midi_onsets=True)\n",
    "val_data_generator = groove_data_loader.get_data(split=GmdDataLoader.VALIDATION_SPLIT, min_duration=min_duration, \n",
    "                                                  get_midi_onsets=True)\n",
    "test_data_generator = groove_data_loader.get_data(split=GmdDataLoader.TEST_SPLIT, min_duration=min_duration, \n",
    "                                                  get_midi_onsets=True)"
   ]
  },
  {
   "cell_type": "markdown",
   "id": "20e5f8ba",
   "metadata": {},
   "source": [
    "### Get dataset statistics"
   ]
  },
  {
   "cell_type": "code",
   "execution_count": 6,
   "id": "4a115681",
   "metadata": {},
   "outputs": [
    {
     "name": "stdout",
     "output_type": "stream",
     "text": [
      "Number of samples before discarding stage - Total samples: 1150 - Training samples: 897 - Validation samples: 124 - Test samples: 129\n",
      "Number of samples after discarding stage - Total samples: 346 - Training samples: 250 - Validation samples: 41 - Test samples: 55\n"
     ]
    }
   ],
   "source": [
    "original_n = groove_data_loader.get_dataset_size()\n",
    "original_train_n = groove_data_loader.get_dataset_size(split=\"train\")\n",
    "original_validation_n = groove_data_loader.get_dataset_size(split=\"validation\")\n",
    "original_test_n = groove_data_loader.get_dataset_size(split=\"test\")\n",
    "print((\"Number of samples before discarding stage - Total samples: {} - Training samples: {} - Validation samples: {} - \" + \n",
    "      \"Test samples: {}\").format(original_n, original_train_n, original_validation_n, original_test_n))\n",
    "n = groove_data_loader.get_dataset_size(min_duration = min_duration)\n",
    "train_n = groove_data_loader.get_dataset_size(split=\"train\", min_duration = min_duration)\n",
    "validation_n = groove_data_loader.get_dataset_size(split=\"validation\", min_duration = min_duration)\n",
    "test_n = groove_data_loader.get_dataset_size(split=\"test\", min_duration = min_duration)\n",
    "print((\"Number of samples after discarding stage - Total samples: {} - Training samples: {} - Validation samples: {} - \" + \n",
    "      \"Test samples: {}\").format(n, train_n, validation_n, test_n))"
   ]
  },
  {
   "cell_type": "markdown",
   "id": "ddc51d37",
   "metadata": {},
   "source": [
    "### Extract all training onset times from MIDI file"
   ]
  },
  {
   "cell_type": "code",
   "execution_count": 7,
   "id": "85995237",
   "metadata": {},
   "outputs": [
    {
     "name": "stderr",
     "output_type": "stream",
     "text": [
      "C:\\Users\\matts\\AppData\\Local\\Temp/ipykernel_7900/1993576370.py:12: VisibleDeprecationWarning: Creating an ndarray from ragged nested sequences (which is a list-or-tuple of lists-or-tuples-or ndarrays with different lengths or shapes) is deprecated. If you meant to do this, you must specify 'dtype=object' when creating the ndarray.\n",
      "  X_train = np.array(X_train)\n"
     ]
    }
   ],
   "source": [
    "X_train = []\n",
    "meta_data_rows = []\n",
    "start_times = []\n",
    "for x, meta_data_row, start_time in train_data_generator:\n",
    "    X_train.append(x)\n",
    "    meta_data_rows.append(meta_data_row)\n",
    "    start_times.append(start_time)\n",
    "for x, meta_data_row, start_time in val_data_generator:\n",
    "    X_train.append(x)\n",
    "    meta_data_rows.append(meta_data_row)\n",
    "    start_times.append(start_time)    \n",
    "X_train = np.array(X_train)"
   ]
  },
  {
   "cell_type": "markdown",
   "id": "ef317737",
   "metadata": {},
   "source": [
    "### Extract all test onset times from MIDI file"
   ]
  },
  {
   "cell_type": "code",
   "execution_count": 8,
   "id": "22cac626",
   "metadata": {
    "scrolled": true
   },
   "outputs": [
    {
     "name": "stderr",
     "output_type": "stream",
     "text": [
      "C:\\Users\\matts\\AppData\\Local\\Temp/ipykernel_7900/2084935150.py:8: VisibleDeprecationWarning: Creating an ndarray from ragged nested sequences (which is a list-or-tuple of lists-or-tuples-or ndarrays with different lengths or shapes) is deprecated. If you meant to do this, you must specify 'dtype=object' when creating the ndarray.\n",
      "  X_test = np.array(X_test)\n"
     ]
    }
   ],
   "source": [
    "X_test = []\n",
    "meta_data_rows_test = []\n",
    "start_times_test = []\n",
    "for x, meta_data_row, start_time in test_data_generator:\n",
    "    X_test.append(x)\n",
    "    meta_data_rows_test.append(meta_data_row)\n",
    "    start_times_test.append(start_time)\n",
    "X_test = np.array(X_test)    "
   ]
  },
  {
   "cell_type": "code",
   "execution_count": 66,
   "id": "00dd573c",
   "metadata": {},
   "outputs": [
    {
     "name": "stdout",
     "output_type": "stream",
     "text": [
      "102\n",
      "[29.66737085]\n"
     ]
    }
   ],
   "source": [
    "kwargs = {\n",
    "    \"onset_process_noise_std\": 0.01,\n",
    "    \"tempo_process_noise_std\": 0.005,\n",
    "    \"measurement_noise_std\": 0.1,\n",
    "    \"use_ideal_switch_value\": False\n",
    "}\n",
    "tracker = SwitchingKalmanFilterTracker(**kwargs)\n",
    "print(meta_data_rows_test[0][\"bpm\"])\n",
    "for onset in X_test[0]:\n",
    "    tracker.run(onset)\n",
    "print(tracker.tempo_period_to_bpm(tracker.get_tempo_estimates()[-1]))"
   ]
  },
  {
   "cell_type": "markdown",
   "id": "1f8ae55d",
   "metadata": {},
   "source": [
    "### Tune switching state model for when using the ideal switching variable value. "
   ]
  },
  {
   "cell_type": "code",
   "execution_count": 9,
   "id": "06cfe701",
   "metadata": {},
   "outputs": [],
   "source": [
    "tune_params = False"
   ]
  },
  {
   "cell_type": "code",
   "execution_count": 10,
   "id": "689f1d75",
   "metadata": {},
   "outputs": [],
   "source": [
    "y_train = [x[\"bpm\"] for x in meta_data_rows]\n",
    "y_test = [x[\"bpm\"] for x in meta_data_rows_test]"
   ]
  },
  {
   "cell_type": "code",
   "execution_count": 11,
   "id": "5f6e0b73",
   "metadata": {
    "scrolled": true
   },
   "outputs": [],
   "source": [
    "if tune_params:\n",
    "    onset_process_noise_std_vals = [0.005, 0.01, 0.05, 0.1, 0.2]\n",
    "    tempo_process_noise_std_vals = [0.005, 0.01, 0.05, 0.1, 0.2]\n",
    "    measurement_noise_std_vals = [0.01, 0.1, 0.2]\n",
    "    evaluator = TrackerEvaluator()\n",
    "    best_accuracy = -1\n",
    "    for onset_noise in onset_process_noise_std_vals:\n",
    "        for tempo_noise in tempo_process_noise_std_vals:\n",
    "            for measurement_noise in measurement_noise_std_vals:\n",
    "                # Create argument dictionary\n",
    "                kwargs = {\n",
    "                    \"onset_process_noise_std\": onset_noise,\n",
    "                    \"tempo_process_noise_std\": tempo_noise,\n",
    "                    \"measurement_noise_std\": measurement_noise,\n",
    "                    \"use_ideal_switch_value\": True\n",
    "                }\n",
    "                # Evaluate\n",
    "                accuracy = evaluator.evaluate(SwitchingKalmanFilterTracker, X_train, y_train, **kwargs)\n",
    "                # Report metric if better than any other previous results\n",
    "                if accuracy > best_accuracy:\n",
    "                    print(\"Best accuracy so far: {}\".format(accuracy))\n",
    "                    print(\"Arguments: {}\".format(str(kwargs)))\n",
    "                    best_accuracy = accuracy\n",
    "                    best_params = kwargs"
   ]
  },
  {
   "cell_type": "markdown",
   "id": "2cfdc356",
   "metadata": {},
   "source": [
    "### Evaluate on test set"
   ]
  },
  {
   "cell_type": "code",
   "execution_count": 12,
   "id": "9549daf2",
   "metadata": {},
   "outputs": [],
   "source": [
    "evaluator = TrackerEvaluator()\n",
    "kwargs = {\n",
    "    \"onset_process_noise_std\": 0.01,\n",
    "    \"tempo_process_noise_std\": 0.005,\n",
    "    \"measurement_noise_std\": 0.1,\n",
    "    \"use_ideal_switch_value\": True\n",
    "}"
   ]
  },
  {
   "cell_type": "code",
   "execution_count": 13,
   "id": "29e5fd8f",
   "metadata": {},
   "outputs": [
    {
     "name": "stdout",
     "output_type": "stream",
     "text": [
      "[0.1488472]\n",
      "I: 0\n",
      "[0.13758878]\n",
      "I: 1\n",
      "[0.05647098]\n",
      "I: 2\n",
      "[0.13692629]\n",
      "I: 3\n",
      "[0.09985889]\n",
      "I: 4\n",
      "[0.11292209]\n",
      "I: 5\n",
      "[0.12431466]\n",
      "I: 6\n",
      "[0.17034501]\n",
      "I: 7\n",
      "[0.06252204]\n",
      "I: 8\n",
      "[0.05083979]\n",
      "I: 9\n",
      "[0.0443077]\n",
      "I: 10\n",
      "[0.08744582]\n",
      "I: 11\n",
      "[0.0549104]\n",
      "I: 12\n",
      "[0.13009742]\n",
      "I: 13\n",
      "[0.10489557]\n",
      "I: 14\n",
      "[0.07715574]\n",
      "I: 15\n",
      "[0.57681648]\n",
      "I: 16\n",
      "[0.10460314]\n",
      "I: 17\n",
      "[0.13870137]\n",
      "I: 18\n",
      "[0.12422943]\n",
      "I: 19\n",
      "[0.11361674]\n",
      "I: 20\n",
      "[0.12346799]\n",
      "I: 21\n",
      "[0.06266237]\n",
      "I: 22\n",
      "[0.1115937]\n",
      "I: 23\n",
      "[0.2303737]\n",
      "I: 24\n",
      "[0.14053274]\n",
      "I: 25\n",
      "[0.1060977]\n",
      "I: 26\n",
      "[0.74672678]\n",
      "I: 27\n",
      "[0.11580198]\n",
      "I: 28\n",
      "[0.1727311]\n",
      "I: 29\n",
      "[0.36510445]\n",
      "I: 30\n",
      "[0.13899903]\n",
      "I: 31\n",
      "[0.13333461]\n",
      "I: 32\n",
      "[0.19213294]\n",
      "I: 33\n",
      "[0.21882039]\n",
      "I: 34\n",
      "[0.06637831]\n",
      "I: 35\n",
      "[0.07340477]\n",
      "I: 36\n",
      "[0.10528426]\n",
      "I: 37\n",
      "[0.11611997]\n",
      "I: 38\n",
      "[0.12459639]\n",
      "I: 39\n",
      "[0.09230916]\n",
      "I: 40\n",
      "[0.16797082]\n",
      "I: 41\n",
      "[0.09613585]\n",
      "I: 42\n",
      "[0.21509048]\n",
      "I: 43\n",
      "[0.15209904]\n",
      "I: 44\n",
      "[0.15936684]\n",
      "I: 45\n",
      "[0.08301616]\n",
      "I: 46\n",
      "[0.3787414]\n",
      "I: 47\n",
      "[0.1116728]\n",
      "I: 48\n",
      "[0.08961768]\n",
      "I: 49\n",
      "[0.08428492]\n",
      "I: 50\n",
      "[0.0610737]\n",
      "I: 51\n",
      "[0.05046188]\n",
      "I: 52\n",
      "[0.08178515]\n",
      "I: 53\n",
      "[0.13507691]\n",
      "I: 54\n"
     ]
    }
   ],
   "source": [
    "accuracy = evaluator.evaluate(SwitchingKalmanFilterTracker, X_test, y_test, **kwargs)"
   ]
  },
  {
   "cell_type": "code",
   "execution_count": 14,
   "id": "0bf5ef06",
   "metadata": {},
   "outputs": [
    {
     "name": "stdout",
     "output_type": "stream",
     "text": [
      "Test accuracy for ideal switch variable computation 0.01818181818181818\n"
     ]
    }
   ],
   "source": [
    "print(\"Test accuracy for ideal switch variable computation {}\".format(accuracy))"
   ]
  },
  {
   "cell_type": "markdown",
   "id": "957a0287",
   "metadata": {},
   "source": [
    "### Tune PF parameters"
   ]
  },
  {
   "cell_type": "code",
   "execution_count": 15,
   "id": "7eb63d28",
   "metadata": {},
   "outputs": [],
   "source": [
    "tune_pf = False"
   ]
  },
  {
   "cell_type": "code",
   "execution_count": 16,
   "id": "a5305b4a",
   "metadata": {},
   "outputs": [],
   "source": [
    "if tune_pf:\n",
    "    onset_process_noise_std_vals = [0.005, 0.01, 0.05, 0.1, 0.2]\n",
    "    tempo_process_noise_std_vals = [0.005, 0.01, 0.05, 0.1, 0.2]\n",
    "    measurement_noise_std_vals = [0.01, 0.1, 0.2]\n",
    "    evaluator = TrackerEvaluator()\n",
    "    best_accuracy = -1\n",
    "    for onset_noise in onset_process_noise_std_vals:\n",
    "        for tempo_noise in tempo_process_noise_std_vals:\n",
    "            for measurement_noise in measurement_noise_std_vals:\n",
    "                # Create argument dictionary\n",
    "                kwargs = {\n",
    "                    \"onset_process_noise_std\": onset_noise,\n",
    "                    \"tempo_process_noise_std\": tempo_noise,\n",
    "                    \"measurement_noise_std\": measurement_noise,\n",
    "                    \"use_ideal_switch_value\": False\n",
    "                }\n",
    "                # Evaluate\n",
    "                accuracy = evaluator.evaluate(SwitchingKalmanFilterTracker, X_train, y_train, **kwargs)\n",
    "                # Report metric if better than any other previous results\n",
    "                if accuracy > best_accuracy:\n",
    "                    print(\"Best accuracy so far: {}\".format(accuracy))\n",
    "                    print(\"Arguments: {}\".format(str(kwargs)))\n",
    "                    best_accuracy = accuracy\n",
    "                    best_params = kwargs"
   ]
  },
  {
   "cell_type": "code",
   "execution_count": 17,
   "id": "a3a10286",
   "metadata": {},
   "outputs": [],
   "source": [
    "evaluator = TrackerEvaluator()\n",
    "kwargs = {\n",
    "    \"onset_process_noise_std\": 0.01,\n",
    "    \"tempo_process_noise_std\": 0.005,\n",
    "    \"measurement_noise_std\": 0.1,\n",
    "    \"use_ideal_switch_value\": False\n",
    "}"
   ]
  },
  {
   "cell_type": "code",
   "execution_count": 18,
   "id": "41656278",
   "metadata": {
    "scrolled": false
   },
   "outputs": [
    {
     "name": "stdout",
     "output_type": "stream",
     "text": [
      "[5.56606857]\n",
      "I: 0\n",
      "[2.18694454]\n",
      "I: 1\n",
      "[3.28448137]\n",
      "I: 2\n",
      "[3.6987302]\n",
      "I: 3\n",
      "[1.87648534]\n",
      "I: 4\n",
      "[3.63556542]\n",
      "I: 5\n",
      "[2.19890673]\n",
      "I: 6\n",
      "[2.51422166]\n",
      "I: 7\n",
      "[3.89864873]\n",
      "I: 8\n",
      "[3.91685838]\n",
      "I: 9\n",
      "[3.59473319]\n",
      "I: 10\n",
      "[4.7180102]\n",
      "I: 11\n",
      "[7.16194306]\n",
      "I: 12\n",
      "[6.66006221]\n",
      "I: 13\n",
      "[0.13322852]\n",
      "I: 14\n",
      "[3.12869468]\n",
      "I: 15\n",
      "[1.99290878]\n",
      "I: 16\n",
      "[3.58175462]\n",
      "I: 17\n",
      "[3.79682253]\n",
      "I: 18\n",
      "[0.54370515]\n",
      "I: 19\n",
      "[0.00254572]\n",
      "I: 20\n",
      "[0.13233098]\n",
      "I: 21\n",
      "[3.18697108]\n",
      "I: 22\n",
      "[0.01305413]\n",
      "I: 23\n",
      "[0.15333837]\n",
      "I: 24\n",
      "[2.95494265]\n",
      "I: 25\n",
      "[3.00919149]\n",
      "I: 26\n",
      "[3.85414973]\n",
      "I: 27\n",
      "[3.48712274]\n",
      "I: 28\n"
     ]
    },
    {
     "name": "stderr",
     "output_type": "stream",
     "text": [
      "C:\\Users\\matts\\Desktop\\KTH\\EL 2320 - Applied Estimation\\Project\\Probabilistic-tempo-tracking\\notebooks\\..\\src\\switching_kalman_filter_tracker.py:166: RuntimeWarning: invalid value encountered in true_divide\n",
      "  self.particle_weights /= self.particle_weights.sum()\n"
     ]
    },
    {
     "name": "stdout",
     "output_type": "stream",
     "text": [
      "[0.00709466]\n",
      "I: 29\n",
      "[5.02306487]\n",
      "I: 30\n",
      "[3.72170565]\n",
      "I: 31\n",
      "[0.00088597]\n",
      "I: 32\n",
      "[0.70968871]\n",
      "I: 33\n",
      "[0.00445116]\n",
      "I: 34\n",
      "[0.07477199]\n",
      "I: 35\n",
      "[2.35621134]\n",
      "I: 36\n",
      "[0.00089543]\n",
      "I: 37\n",
      "[0.10366131]\n",
      "I: 38\n",
      "[0.74798082]\n",
      "I: 39\n",
      "[0.45176014]\n",
      "I: 40\n",
      "[0.01503201]\n",
      "I: 41\n",
      "[0.92073991]\n",
      "I: 42\n",
      "[0.00106853]\n",
      "I: 43\n",
      "[9.47422127]\n",
      "I: 44\n",
      "[0.38522596]\n",
      "I: 45\n",
      "[0.00129008]\n",
      "I: 46\n",
      "[0.00369173]\n",
      "I: 47\n",
      "[2.10394572]\n",
      "I: 48\n",
      "[4.7489485]\n",
      "I: 49\n",
      "[0.00557662]\n",
      "I: 50\n",
      "[0.81421773]\n",
      "I: 51\n",
      "[0.0245276]\n",
      "I: 52\n",
      "[3.8038137]\n",
      "I: 53\n",
      "[1.90543662]\n",
      "I: 54\n",
      "[0.01452208]\n",
      "I: 55\n",
      "[0.08899876]\n",
      "I: 56\n",
      "[4.65176359]\n",
      "I: 57\n",
      "[1.19925606]\n",
      "I: 58\n",
      "[0.43306753]\n",
      "I: 59\n",
      "[2.415409]\n",
      "I: 60\n",
      "[0.01562187]\n",
      "I: 61\n",
      "[0.0044823]\n",
      "I: 62\n"
     ]
    },
    {
     "name": "stderr",
     "output_type": "stream",
     "text": [
      "ERROR:root:Internal Python error in the inspect module.\n",
      "Below is the traceback from this internal error.\n",
      "\n"
     ]
    },
    {
     "name": "stdout",
     "output_type": "stream",
     "text": [
      "Traceback (most recent call last):\n",
      "  File \"C:\\Users\\matts\\anaconda3\\lib\\site-packages\\IPython\\core\\interactiveshell.py\", line 3444, in run_code\n",
      "    exec(code_obj, self.user_global_ns, self.user_ns)\n",
      "  File \"C:\\Users\\matts\\AppData\\Local\\Temp/ipykernel_7900/3803012508.py\", line 1, in <module>\n",
      "    accuracy = evaluator.evaluate(SwitchingKalmanFilterTracker, X_train, y_train, **kwargs)\n",
      "  File \"C:\\Users\\matts\\Desktop\\KTH\\EL 2320 - Applied Estimation\\Project\\Probabilistic-tempo-tracking\\notebooks\\..\\src\\tracker_evaluator.py\", line 14, in evaluate\n",
      "    tempo_tracker.run(onset)\n",
      "  File \"C:\\Users\\matts\\Desktop\\KTH\\EL 2320 - Applied Estimation\\Project\\Probabilistic-tempo-tracking\\notebooks\\..\\src\\switching_kalman_filter_tracker.py\", line 126, in run\n",
      "    self.update_switch_variable(onset_time)\n",
      "  File \"C:\\Users\\matts\\Desktop\\KTH\\EL 2320 - Applied Estimation\\Project\\Probabilistic-tempo-tracking\\notebooks\\..\\src\\switching_kalman_filter_tracker.py\", line 167, in update_switch_variable\n",
      "    self.systematic_resampling()\n",
      "  File \"C:\\Users\\matts\\Desktop\\KTH\\EL 2320 - Applied Estimation\\Project\\Probabilistic-tempo-tracking\\notebooks\\..\\src\\switching_kalman_filter_tracker.py\", line 175, in systematic_resampling\n",
      "    new_P = np.zeros_like(self.P)\n",
      "  File \"<__array_function__ internals>\", line 5, in zeros_like\n",
      "  File \"C:\\Users\\matts\\anaconda3\\lib\\site-packages\\numpy\\core\\numeric.py\", line 140, in zeros_like\n",
      "    multiarray.copyto(res, z, casting='unsafe')\n",
      "  File \"<__array_function__ internals>\", line 5, in copyto\n",
      "KeyboardInterrupt\n",
      "\n",
      "During handling of the above exception, another exception occurred:\n",
      "\n",
      "Traceback (most recent call last):\n",
      "  File \"C:\\Users\\matts\\anaconda3\\lib\\site-packages\\IPython\\core\\interactiveshell.py\", line 2064, in showtraceback\n",
      "    stb = value._render_traceback_()\n",
      "AttributeError: 'KeyboardInterrupt' object has no attribute '_render_traceback_'\n",
      "\n",
      "During handling of the above exception, another exception occurred:\n",
      "\n",
      "Traceback (most recent call last):\n",
      "  File \"C:\\Users\\matts\\anaconda3\\lib\\site-packages\\IPython\\core\\ultratb.py\", line 1101, in get_records\n",
      "    return _fixed_getinnerframes(etb, number_of_lines_of_context, tb_offset)\n",
      "  File \"C:\\Users\\matts\\anaconda3\\lib\\site-packages\\IPython\\core\\ultratb.py\", line 248, in wrapped\n",
      "    return f(*args, **kwargs)\n",
      "  File \"C:\\Users\\matts\\anaconda3\\lib\\site-packages\\IPython\\core\\ultratb.py\", line 281, in _fixed_getinnerframes\n",
      "    records = fix_frame_records_filenames(inspect.getinnerframes(etb, context))\n",
      "  File \"C:\\Users\\matts\\anaconda3\\lib\\inspect.py\", line 1541, in getinnerframes\n",
      "    frameinfo = (tb.tb_frame,) + getframeinfo(tb, context)\n",
      "  File \"C:\\Users\\matts\\anaconda3\\lib\\inspect.py\", line 1499, in getframeinfo\n",
      "    filename = getsourcefile(frame) or getfile(frame)\n",
      "  File \"C:\\Users\\matts\\anaconda3\\lib\\inspect.py\", line 709, in getsourcefile\n",
      "    if getattr(getmodule(object, filename), '__loader__', None) is not None:\n",
      "  File \"C:\\Users\\matts\\anaconda3\\lib\\inspect.py\", line 755, in getmodule\n",
      "    os.path.realpath(f)] = module.__name__\n",
      "  File \"C:\\Users\\matts\\anaconda3\\lib\\ntpath.py\", line 647, in realpath\n",
      "    path = _getfinalpathname(path)\n",
      "KeyboardInterrupt\n"
     ]
    },
    {
     "ename": "TypeError",
     "evalue": "object of type 'NoneType' has no len()",
     "output_type": "error",
     "traceback": [
      "\u001b[1;31m---------------------------------------------------------------------------\u001b[0m",
      "\u001b[1;31mKeyboardInterrupt\u001b[0m                         Traceback (most recent call last)",
      "    \u001b[1;31m[... skipping hidden 1 frame]\u001b[0m\n",
      "\u001b[1;32m~\\AppData\\Local\\Temp/ipykernel_7900/3803012508.py\u001b[0m in \u001b[0;36m<module>\u001b[1;34m\u001b[0m\n\u001b[1;32m----> 1\u001b[1;33m \u001b[0maccuracy\u001b[0m \u001b[1;33m=\u001b[0m \u001b[0mevaluator\u001b[0m\u001b[1;33m.\u001b[0m\u001b[0mevaluate\u001b[0m\u001b[1;33m(\u001b[0m\u001b[0mSwitchingKalmanFilterTracker\u001b[0m\u001b[1;33m,\u001b[0m \u001b[0mX_train\u001b[0m\u001b[1;33m,\u001b[0m \u001b[0my_train\u001b[0m\u001b[1;33m,\u001b[0m \u001b[1;33m**\u001b[0m\u001b[0mkwargs\u001b[0m\u001b[1;33m)\u001b[0m\u001b[1;33m\u001b[0m\u001b[1;33m\u001b[0m\u001b[0m\n\u001b[0m",
      "\u001b[1;32m~\\Desktop\\KTH\\EL 2320 - Applied Estimation\\Project\\Probabilistic-tempo-tracking\\notebooks\\..\\src\\tracker_evaluator.py\u001b[0m in \u001b[0;36mevaluate\u001b[1;34m(self, tracker_class, X_train, y_train, **kwargs)\u001b[0m\n\u001b[0;32m     13\u001b[0m             \u001b[1;32mfor\u001b[0m \u001b[0monset\u001b[0m \u001b[1;32min\u001b[0m \u001b[0mx\u001b[0m\u001b[1;33m:\u001b[0m\u001b[1;33m\u001b[0m\u001b[1;33m\u001b[0m\u001b[0m\n\u001b[1;32m---> 14\u001b[1;33m                 \u001b[0mtempo_tracker\u001b[0m\u001b[1;33m.\u001b[0m\u001b[0mrun\u001b[0m\u001b[1;33m(\u001b[0m\u001b[0monset\u001b[0m\u001b[1;33m)\u001b[0m\u001b[1;33m\u001b[0m\u001b[1;33m\u001b[0m\u001b[0m\n\u001b[0m\u001b[0;32m     15\u001b[0m             \u001b[1;31m# Get last tempo estimate in BPM\u001b[0m\u001b[1;33m\u001b[0m\u001b[1;33m\u001b[0m\u001b[0m\n",
      "\u001b[1;32m~\\Desktop\\KTH\\EL 2320 - Applied Estimation\\Project\\Probabilistic-tempo-tracking\\notebooks\\..\\src\\switching_kalman_filter_tracker.py\u001b[0m in \u001b[0;36mrun\u001b[1;34m(self, onset_time)\u001b[0m\n\u001b[0;32m    125\u001b[0m             \u001b[1;31m# Update switch variable based on previously estimated state / Systematic resampling of particles\u001b[0m\u001b[1;33m\u001b[0m\u001b[1;33m\u001b[0m\u001b[0m\n\u001b[1;32m--> 126\u001b[1;33m             \u001b[0mself\u001b[0m\u001b[1;33m.\u001b[0m\u001b[0mupdate_switch_variable\u001b[0m\u001b[1;33m(\u001b[0m\u001b[0monset_time\u001b[0m\u001b[1;33m)\u001b[0m\u001b[1;33m\u001b[0m\u001b[1;33m\u001b[0m\u001b[0m\n\u001b[0m\u001b[0;32m    127\u001b[0m             \u001b[1;31m# Predict new states\u001b[0m\u001b[1;33m\u001b[0m\u001b[1;33m\u001b[0m\u001b[0m\n",
      "\u001b[1;32m~\\Desktop\\KTH\\EL 2320 - Applied Estimation\\Project\\Probabilistic-tempo-tracking\\notebooks\\..\\src\\switching_kalman_filter_tracker.py\u001b[0m in \u001b[0;36mupdate_switch_variable\u001b[1;34m(self, onset_time)\u001b[0m\n\u001b[0;32m    166\u001b[0m             \u001b[0mself\u001b[0m\u001b[1;33m.\u001b[0m\u001b[0mparticle_weights\u001b[0m \u001b[1;33m/=\u001b[0m \u001b[0mself\u001b[0m\u001b[1;33m.\u001b[0m\u001b[0mparticle_weights\u001b[0m\u001b[1;33m.\u001b[0m\u001b[0msum\u001b[0m\u001b[1;33m(\u001b[0m\u001b[1;33m)\u001b[0m\u001b[1;33m\u001b[0m\u001b[1;33m\u001b[0m\u001b[0m\n\u001b[1;32m--> 167\u001b[1;33m             \u001b[0mself\u001b[0m\u001b[1;33m.\u001b[0m\u001b[0msystematic_resampling\u001b[0m\u001b[1;33m(\u001b[0m\u001b[1;33m)\u001b[0m\u001b[1;33m\u001b[0m\u001b[1;33m\u001b[0m\u001b[0m\n\u001b[0m\u001b[0;32m    168\u001b[0m \u001b[1;33m\u001b[0m\u001b[0m\n",
      "\u001b[1;32m~\\Desktop\\KTH\\EL 2320 - Applied Estimation\\Project\\Probabilistic-tempo-tracking\\notebooks\\..\\src\\switching_kalman_filter_tracker.py\u001b[0m in \u001b[0;36msystematic_resampling\u001b[1;34m(self)\u001b[0m\n\u001b[0;32m    174\u001b[0m         \u001b[0mnew_A\u001b[0m \u001b[1;33m=\u001b[0m \u001b[0mnp\u001b[0m\u001b[1;33m.\u001b[0m\u001b[0mzeros_like\u001b[0m\u001b[1;33m(\u001b[0m\u001b[0mself\u001b[0m\u001b[1;33m.\u001b[0m\u001b[0mA\u001b[0m\u001b[1;33m)\u001b[0m\u001b[1;33m\u001b[0m\u001b[1;33m\u001b[0m\u001b[0m\n\u001b[1;32m--> 175\u001b[1;33m         \u001b[0mnew_P\u001b[0m \u001b[1;33m=\u001b[0m \u001b[0mnp\u001b[0m\u001b[1;33m.\u001b[0m\u001b[0mzeros_like\u001b[0m\u001b[1;33m(\u001b[0m\u001b[0mself\u001b[0m\u001b[1;33m.\u001b[0m\u001b[0mP\u001b[0m\u001b[1;33m)\u001b[0m\u001b[1;33m\u001b[0m\u001b[1;33m\u001b[0m\u001b[0m\n\u001b[0m\u001b[0;32m    176\u001b[0m \u001b[1;33m\u001b[0m\u001b[0m\n",
      "\u001b[1;32m<__array_function__ internals>\u001b[0m in \u001b[0;36mzeros_like\u001b[1;34m(*args, **kwargs)\u001b[0m\n",
      "\u001b[1;32m~\\anaconda3\\lib\\site-packages\\numpy\\core\\numeric.py\u001b[0m in \u001b[0;36mzeros_like\u001b[1;34m(a, dtype, order, subok, shape)\u001b[0m\n\u001b[0;32m    139\u001b[0m     \u001b[0mz\u001b[0m \u001b[1;33m=\u001b[0m \u001b[0mzeros\u001b[0m\u001b[1;33m(\u001b[0m\u001b[1;36m1\u001b[0m\u001b[1;33m,\u001b[0m \u001b[0mdtype\u001b[0m\u001b[1;33m=\u001b[0m\u001b[0mres\u001b[0m\u001b[1;33m.\u001b[0m\u001b[0mdtype\u001b[0m\u001b[1;33m)\u001b[0m\u001b[1;33m\u001b[0m\u001b[1;33m\u001b[0m\u001b[0m\n\u001b[1;32m--> 140\u001b[1;33m     \u001b[0mmultiarray\u001b[0m\u001b[1;33m.\u001b[0m\u001b[0mcopyto\u001b[0m\u001b[1;33m(\u001b[0m\u001b[0mres\u001b[0m\u001b[1;33m,\u001b[0m \u001b[0mz\u001b[0m\u001b[1;33m,\u001b[0m \u001b[0mcasting\u001b[0m\u001b[1;33m=\u001b[0m\u001b[1;34m'unsafe'\u001b[0m\u001b[1;33m)\u001b[0m\u001b[1;33m\u001b[0m\u001b[1;33m\u001b[0m\u001b[0m\n\u001b[0m\u001b[0;32m    141\u001b[0m     \u001b[1;32mreturn\u001b[0m \u001b[0mres\u001b[0m\u001b[1;33m\u001b[0m\u001b[1;33m\u001b[0m\u001b[0m\n",
      "\u001b[1;32m<__array_function__ internals>\u001b[0m in \u001b[0;36mcopyto\u001b[1;34m(*args, **kwargs)\u001b[0m\n",
      "\u001b[1;31mKeyboardInterrupt\u001b[0m: ",
      "\nDuring handling of the above exception, another exception occurred:\n",
      "\u001b[1;31mAttributeError\u001b[0m                            Traceback (most recent call last)",
      "\u001b[1;32m~\\anaconda3\\lib\\site-packages\\IPython\\core\\interactiveshell.py\u001b[0m in \u001b[0;36mshowtraceback\u001b[1;34m(self, exc_tuple, filename, tb_offset, exception_only, running_compiled_code)\u001b[0m\n\u001b[0;32m   2063\u001b[0m                         \u001b[1;31m# in the engines. This should return a list of strings.\u001b[0m\u001b[1;33m\u001b[0m\u001b[1;33m\u001b[0m\u001b[0m\n\u001b[1;32m-> 2064\u001b[1;33m                         \u001b[0mstb\u001b[0m \u001b[1;33m=\u001b[0m \u001b[0mvalue\u001b[0m\u001b[1;33m.\u001b[0m\u001b[0m_render_traceback_\u001b[0m\u001b[1;33m(\u001b[0m\u001b[1;33m)\u001b[0m\u001b[1;33m\u001b[0m\u001b[1;33m\u001b[0m\u001b[0m\n\u001b[0m\u001b[0;32m   2065\u001b[0m                     \u001b[1;32mexcept\u001b[0m \u001b[0mException\u001b[0m\u001b[1;33m:\u001b[0m\u001b[1;33m\u001b[0m\u001b[1;33m\u001b[0m\u001b[0m\n",
      "\u001b[1;31mAttributeError\u001b[0m: 'KeyboardInterrupt' object has no attribute '_render_traceback_'",
      "\nDuring handling of the above exception, another exception occurred:\n",
      "\u001b[1;31mTypeError\u001b[0m                                 Traceback (most recent call last)",
      "    \u001b[1;31m[... skipping hidden 1 frame]\u001b[0m\n",
      "\u001b[1;32m~\\anaconda3\\lib\\site-packages\\IPython\\core\\interactiveshell.py\u001b[0m in \u001b[0;36mshowtraceback\u001b[1;34m(self, exc_tuple, filename, tb_offset, exception_only, running_compiled_code)\u001b[0m\n\u001b[0;32m   2064\u001b[0m                         \u001b[0mstb\u001b[0m \u001b[1;33m=\u001b[0m \u001b[0mvalue\u001b[0m\u001b[1;33m.\u001b[0m\u001b[0m_render_traceback_\u001b[0m\u001b[1;33m(\u001b[0m\u001b[1;33m)\u001b[0m\u001b[1;33m\u001b[0m\u001b[1;33m\u001b[0m\u001b[0m\n\u001b[0;32m   2065\u001b[0m                     \u001b[1;32mexcept\u001b[0m \u001b[0mException\u001b[0m\u001b[1;33m:\u001b[0m\u001b[1;33m\u001b[0m\u001b[1;33m\u001b[0m\u001b[0m\n\u001b[1;32m-> 2066\u001b[1;33m                         stb = self.InteractiveTB.structured_traceback(etype,\n\u001b[0m\u001b[0;32m   2067\u001b[0m                                             value, tb, tb_offset=tb_offset)\n\u001b[0;32m   2068\u001b[0m \u001b[1;33m\u001b[0m\u001b[0m\n",
      "\u001b[1;32m~\\anaconda3\\lib\\site-packages\\IPython\\core\\ultratb.py\u001b[0m in \u001b[0;36mstructured_traceback\u001b[1;34m(self, etype, value, tb, tb_offset, number_of_lines_of_context)\u001b[0m\n\u001b[0;32m   1365\u001b[0m         \u001b[1;32melse\u001b[0m\u001b[1;33m:\u001b[0m\u001b[1;33m\u001b[0m\u001b[1;33m\u001b[0m\u001b[0m\n\u001b[0;32m   1366\u001b[0m             \u001b[0mself\u001b[0m\u001b[1;33m.\u001b[0m\u001b[0mtb\u001b[0m \u001b[1;33m=\u001b[0m \u001b[0mtb\u001b[0m\u001b[1;33m\u001b[0m\u001b[1;33m\u001b[0m\u001b[0m\n\u001b[1;32m-> 1367\u001b[1;33m         return FormattedTB.structured_traceback(\n\u001b[0m\u001b[0;32m   1368\u001b[0m             self, etype, value, tb, tb_offset, number_of_lines_of_context)\n\u001b[0;32m   1369\u001b[0m \u001b[1;33m\u001b[0m\u001b[0m\n",
      "\u001b[1;32m~\\anaconda3\\lib\\site-packages\\IPython\\core\\ultratb.py\u001b[0m in \u001b[0;36mstructured_traceback\u001b[1;34m(self, etype, value, tb, tb_offset, number_of_lines_of_context)\u001b[0m\n\u001b[0;32m   1265\u001b[0m         \u001b[1;32mif\u001b[0m \u001b[0mmode\u001b[0m \u001b[1;32min\u001b[0m \u001b[0mself\u001b[0m\u001b[1;33m.\u001b[0m\u001b[0mverbose_modes\u001b[0m\u001b[1;33m:\u001b[0m\u001b[1;33m\u001b[0m\u001b[1;33m\u001b[0m\u001b[0m\n\u001b[0;32m   1266\u001b[0m             \u001b[1;31m# Verbose modes need a full traceback\u001b[0m\u001b[1;33m\u001b[0m\u001b[1;33m\u001b[0m\u001b[0m\n\u001b[1;32m-> 1267\u001b[1;33m             return VerboseTB.structured_traceback(\n\u001b[0m\u001b[0;32m   1268\u001b[0m                 \u001b[0mself\u001b[0m\u001b[1;33m,\u001b[0m \u001b[0metype\u001b[0m\u001b[1;33m,\u001b[0m \u001b[0mvalue\u001b[0m\u001b[1;33m,\u001b[0m \u001b[0mtb\u001b[0m\u001b[1;33m,\u001b[0m \u001b[0mtb_offset\u001b[0m\u001b[1;33m,\u001b[0m \u001b[0mnumber_of_lines_of_context\u001b[0m\u001b[1;33m\u001b[0m\u001b[1;33m\u001b[0m\u001b[0m\n\u001b[0;32m   1269\u001b[0m             )\n",
      "\u001b[1;32m~\\anaconda3\\lib\\site-packages\\IPython\\core\\ultratb.py\u001b[0m in \u001b[0;36mstructured_traceback\u001b[1;34m(self, etype, evalue, etb, tb_offset, number_of_lines_of_context)\u001b[0m\n\u001b[0;32m   1122\u001b[0m         \u001b[1;34m\"\"\"Return a nice text document describing the traceback.\"\"\"\u001b[0m\u001b[1;33m\u001b[0m\u001b[1;33m\u001b[0m\u001b[0m\n\u001b[0;32m   1123\u001b[0m \u001b[1;33m\u001b[0m\u001b[0m\n\u001b[1;32m-> 1124\u001b[1;33m         formatted_exception = self.format_exception_as_a_whole(etype, evalue, etb, number_of_lines_of_context,\n\u001b[0m\u001b[0;32m   1125\u001b[0m                                                                tb_offset)\n\u001b[0;32m   1126\u001b[0m \u001b[1;33m\u001b[0m\u001b[0m\n",
      "\u001b[1;32m~\\anaconda3\\lib\\site-packages\\IPython\\core\\ultratb.py\u001b[0m in \u001b[0;36mformat_exception_as_a_whole\u001b[1;34m(self, etype, evalue, etb, number_of_lines_of_context, tb_offset)\u001b[0m\n\u001b[0;32m   1080\u001b[0m \u001b[1;33m\u001b[0m\u001b[0m\n\u001b[0;32m   1081\u001b[0m \u001b[1;33m\u001b[0m\u001b[0m\n\u001b[1;32m-> 1082\u001b[1;33m         \u001b[0mlast_unique\u001b[0m\u001b[1;33m,\u001b[0m \u001b[0mrecursion_repeat\u001b[0m \u001b[1;33m=\u001b[0m \u001b[0mfind_recursion\u001b[0m\u001b[1;33m(\u001b[0m\u001b[0morig_etype\u001b[0m\u001b[1;33m,\u001b[0m \u001b[0mevalue\u001b[0m\u001b[1;33m,\u001b[0m \u001b[0mrecords\u001b[0m\u001b[1;33m)\u001b[0m\u001b[1;33m\u001b[0m\u001b[1;33m\u001b[0m\u001b[0m\n\u001b[0m\u001b[0;32m   1083\u001b[0m \u001b[1;33m\u001b[0m\u001b[0m\n\u001b[0;32m   1084\u001b[0m         \u001b[0mframes\u001b[0m \u001b[1;33m=\u001b[0m \u001b[0mself\u001b[0m\u001b[1;33m.\u001b[0m\u001b[0mformat_records\u001b[0m\u001b[1;33m(\u001b[0m\u001b[0mrecords\u001b[0m\u001b[1;33m,\u001b[0m \u001b[0mlast_unique\u001b[0m\u001b[1;33m,\u001b[0m \u001b[0mrecursion_repeat\u001b[0m\u001b[1;33m)\u001b[0m\u001b[1;33m\u001b[0m\u001b[1;33m\u001b[0m\u001b[0m\n",
      "\u001b[1;32m~\\anaconda3\\lib\\site-packages\\IPython\\core\\ultratb.py\u001b[0m in \u001b[0;36mfind_recursion\u001b[1;34m(etype, value, records)\u001b[0m\n\u001b[0;32m    380\u001b[0m     \u001b[1;31m# first frame (from in to out) that looks different.\u001b[0m\u001b[1;33m\u001b[0m\u001b[1;33m\u001b[0m\u001b[0m\n\u001b[0;32m    381\u001b[0m     \u001b[1;32mif\u001b[0m \u001b[1;32mnot\u001b[0m \u001b[0mis_recursion_error\u001b[0m\u001b[1;33m(\u001b[0m\u001b[0metype\u001b[0m\u001b[1;33m,\u001b[0m \u001b[0mvalue\u001b[0m\u001b[1;33m,\u001b[0m \u001b[0mrecords\u001b[0m\u001b[1;33m)\u001b[0m\u001b[1;33m:\u001b[0m\u001b[1;33m\u001b[0m\u001b[1;33m\u001b[0m\u001b[0m\n\u001b[1;32m--> 382\u001b[1;33m         \u001b[1;32mreturn\u001b[0m \u001b[0mlen\u001b[0m\u001b[1;33m(\u001b[0m\u001b[0mrecords\u001b[0m\u001b[1;33m)\u001b[0m\u001b[1;33m,\u001b[0m \u001b[1;36m0\u001b[0m\u001b[1;33m\u001b[0m\u001b[1;33m\u001b[0m\u001b[0m\n\u001b[0m\u001b[0;32m    383\u001b[0m \u001b[1;33m\u001b[0m\u001b[0m\n\u001b[0;32m    384\u001b[0m     \u001b[1;31m# Select filename, lineno, func_name to track frames with\u001b[0m\u001b[1;33m\u001b[0m\u001b[1;33m\u001b[0m\u001b[0m\n",
      "\u001b[1;31mTypeError\u001b[0m: object of type 'NoneType' has no len()"
     ]
    }
   ],
   "source": [
    "accuracy = evaluator.evaluate(SwitchingKalmanFilterTracker, X_train, y_train, **kwargs)"
   ]
  },
  {
   "cell_type": "code",
   "execution_count": null,
   "id": "25c051c5",
   "metadata": {},
   "outputs": [],
   "source": [
    "print(accuracy)"
   ]
  },
  {
   "cell_type": "markdown",
   "id": "2bfbb151",
   "metadata": {},
   "source": [
    "### Report accuracy metric"
   ]
  },
  {
   "cell_type": "code",
   "execution_count": null,
   "id": "81b72c6d",
   "metadata": {},
   "outputs": [],
   "source": [
    "import math"
   ]
  },
  {
   "cell_type": "code",
   "execution_count": null,
   "id": "8fcd68f4",
   "metadata": {},
   "outputs": [],
   "source": [
    "x = X_train[0]\n",
    "tempo_tracker = SwitchingKalmanFilterTracker(use_ideal_switch_value=True)\n",
    "for onset in x:\n",
    "    tempo_tracker.run(onset)\n",
    "# Get last tempo estimate in BPM\n",
    "last_tempo_estimate = tempo_tracker.get_tempo_estimates()[-1]\n",
    "last_tempo_estimate_bpm = tempo_tracker.tempo_period_to_bpm(last_tempo_estimate)\n",
    "\n",
    "# Round tempo estimate to closest integer\n",
    "rounded_tempo = math.ceil(last_tempo_estimate_bpm) \\\n",
    "    if last_tempo_estimate_bpm % 1 >= 0.5 else int(last_tempo_estimate_bpm)\n",
    "\n",
    "print(tempo_tracker.tempo_period_to_bpm(last_tempo_estimate))"
   ]
  },
  {
   "cell_type": "code",
   "execution_count": null,
   "id": "56c7a611",
   "metadata": {},
   "outputs": [],
   "source": []
  }
 ],
 "metadata": {
  "kernelspec": {
   "display_name": "Python 3 (ipykernel)",
   "language": "python",
   "name": "python3"
  },
  "language_info": {
   "codemirror_mode": {
    "name": "ipython",
    "version": 3
   },
   "file_extension": ".py",
   "mimetype": "text/x-python",
   "name": "python",
   "nbconvert_exporter": "python",
   "pygments_lexer": "ipython3",
   "version": "3.9.7"
  }
 },
 "nbformat": 4,
 "nbformat_minor": 5
}
