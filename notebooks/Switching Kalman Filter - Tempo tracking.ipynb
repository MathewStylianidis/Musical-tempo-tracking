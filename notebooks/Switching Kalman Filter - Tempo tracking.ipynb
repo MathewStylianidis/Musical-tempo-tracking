{
 "cells": [
  {
   "cell_type": "markdown",
   "id": "58a6feaf",
   "metadata": {},
   "source": [
    "# Notebook content \n",
    "* Loading GMD dataset\n",
    "* Playing example audio\n",
    "* Dataset statistics before and after discarding samples\n",
    "* Extracting MIDI onset times (observations)\n",
    "* Tuning Switching Kalman Filter parameters on training/validation dataset and evaluating on test set\n",
    "* Tuning Switching Kalman Filter + Particle Filtering for switch variable estimation on training/validation dataset and evaluating on test set"
   ]
  },
  {
   "cell_type": "markdown",
   "id": "c54843a1",
   "metadata": {},
   "source": [
    "### Import packages"
   ]
  },
  {
   "cell_type": "code",
   "execution_count": 1,
   "id": "e0b108bf",
   "metadata": {},
   "outputs": [],
   "source": [
    "import IPython.display\n",
    "import os\n",
    "import sys\n",
    "\n",
    "import matplotlib.pyplot as plt\n",
    "import numpy as np\n",
    "\n",
    "sys.path.append(os.path.join(\"..\", \"src\"))\n",
    "\n",
    "from data_loader import GmdDataLoader\n",
    "from switching_kalman_filter_tracker import SwitchingKalmanFilterTracker\n",
    "from tracker_evaluator import TrackerEvaluator"
   ]
  },
  {
   "cell_type": "markdown",
   "id": "5b7baf05",
   "metadata": {},
   "source": [
    "### Define paths"
   ]
  },
  {
   "cell_type": "code",
   "execution_count": 2,
   "id": "d0cc6f76",
   "metadata": {},
   "outputs": [],
   "source": [
    "data_root_path = os.path.join(\"..\", \"data\")\n",
    "dataset_root_path = os.path.join(data_root_path, \"groove\")"
   ]
  },
  {
   "cell_type": "markdown",
   "id": "6911d554",
   "metadata": {},
   "source": [
    "### Define constants "
   ]
  },
  {
   "cell_type": "code",
   "execution_count": 3,
   "id": "ffe683c8",
   "metadata": {},
   "outputs": [],
   "source": [
    "min_duration = 30.0"
   ]
  },
  {
   "cell_type": "markdown",
   "id": "4af1b8e6",
   "metadata": {},
   "source": [
    "### Create generator for audio files"
   ]
  },
  {
   "cell_type": "code",
   "execution_count": 4,
   "id": "fe28e381",
   "metadata": {},
   "outputs": [],
   "source": [
    "groove_data_loader = GmdDataLoader(dataset_root_path)"
   ]
  },
  {
   "cell_type": "code",
   "execution_count": 5,
   "id": "bbf36c4d",
   "metadata": {},
   "outputs": [],
   "source": [
    "train_data_generator = groove_data_loader.get_data(split=GmdDataLoader.TRAIN_SPLIT, min_duration=min_duration, \n",
    "                                                  get_midi_onsets=True)\n",
    "val_data_generator = groove_data_loader.get_data(split=GmdDataLoader.VALIDATION_SPLIT, min_duration=min_duration, \n",
    "                                                  get_midi_onsets=True)\n",
    "test_data_generator = groove_data_loader.get_data(split=GmdDataLoader.TEST_SPLIT, min_duration=min_duration, \n",
    "                                                  get_midi_onsets=True)"
   ]
  },
  {
   "cell_type": "markdown",
   "id": "20e5f8ba",
   "metadata": {},
   "source": [
    "### Get dataset statistics"
   ]
  },
  {
   "cell_type": "code",
   "execution_count": 6,
   "id": "4a115681",
   "metadata": {},
   "outputs": [
    {
     "name": "stdout",
     "output_type": "stream",
     "text": [
      "Number of samples before discarding stage - Total samples: 1150 - Training samples: 897 - Validation samples: 124 - Test samples: 129\n",
      "Number of samples after discarding stage - Total samples: 346 - Training samples: 250 - Validation samples: 41 - Test samples: 55\n"
     ]
    }
   ],
   "source": [
    "original_n = groove_data_loader.get_dataset_size()\n",
    "original_train_n = groove_data_loader.get_dataset_size(split=\"train\")\n",
    "original_validation_n = groove_data_loader.get_dataset_size(split=\"validation\")\n",
    "original_test_n = groove_data_loader.get_dataset_size(split=\"test\")\n",
    "print((\"Number of samples before discarding stage - Total samples: {} - Training samples: {} - Validation samples: {} - \" + \n",
    "      \"Test samples: {}\").format(original_n, original_train_n, original_validation_n, original_test_n))\n",
    "n = groove_data_loader.get_dataset_size(min_duration = min_duration)\n",
    "train_n = groove_data_loader.get_dataset_size(split=\"train\", min_duration = min_duration)\n",
    "validation_n = groove_data_loader.get_dataset_size(split=\"validation\", min_duration = min_duration)\n",
    "test_n = groove_data_loader.get_dataset_size(split=\"test\", min_duration = min_duration)\n",
    "print((\"Number of samples after discarding stage - Total samples: {} - Training samples: {} - Validation samples: {} - \" + \n",
    "      \"Test samples: {}\").format(n, train_n, validation_n, test_n))"
   ]
  },
  {
   "cell_type": "markdown",
   "id": "ddc51d37",
   "metadata": {},
   "source": [
    "### Extract all training onset times from MIDI file"
   ]
  },
  {
   "cell_type": "code",
   "execution_count": 7,
   "id": "f523cc15",
   "metadata": {},
   "outputs": [
    {
     "name": "stderr",
     "output_type": "stream",
     "text": [
      "C:\\Users\\matts\\AppData\\Local\\Temp/ipykernel_8560/1993576370.py:12: VisibleDeprecationWarning: Creating an ndarray from ragged nested sequences (which is a list-or-tuple of lists-or-tuples-or ndarrays with different lengths or shapes) is deprecated. If you meant to do this, you must specify 'dtype=object' when creating the ndarray.\n",
      "  X_train = np.array(X_train)\n"
     ]
    }
   ],
   "source": [
    "X_train = []\n",
    "meta_data_rows = []\n",
    "start_times = []\n",
    "for x, meta_data_row, start_time in train_data_generator:\n",
    "    X_train.append(x)\n",
    "    meta_data_rows.append(meta_data_row)\n",
    "    start_times.append(start_time)\n",
    "for x, meta_data_row, start_time in val_data_generator:\n",
    "    X_train.append(x)\n",
    "    meta_data_rows.append(meta_data_row)\n",
    "    start_times.append(start_time)    \n",
    "X_train = np.array(X_train)"
   ]
  },
  {
   "cell_type": "markdown",
   "id": "63fafe58",
   "metadata": {},
   "source": [
    "### Extract all test onset times from MIDI file"
   ]
  },
  {
   "cell_type": "code",
   "execution_count": 8,
   "id": "e5d06085",
   "metadata": {
    "scrolled": false
   },
   "outputs": [
    {
     "name": "stderr",
     "output_type": "stream",
     "text": [
      "C:\\Users\\matts\\AppData\\Local\\Temp/ipykernel_8560/2084935150.py:8: VisibleDeprecationWarning: Creating an ndarray from ragged nested sequences (which is a list-or-tuple of lists-or-tuples-or ndarrays with different lengths or shapes) is deprecated. If you meant to do this, you must specify 'dtype=object' when creating the ndarray.\n",
      "  X_test = np.array(X_test)\n"
     ]
    }
   ],
   "source": [
    "X_test = []\n",
    "meta_data_rows_test = []\n",
    "start_times_test = []\n",
    "for x, meta_data_row, start_time in test_data_generator:\n",
    "    X_test.append(x)\n",
    "    meta_data_rows_test.append(meta_data_row)\n",
    "    start_times_test.append(start_time)\n",
    "X_test = np.array(X_test)    "
   ]
  },
  {
   "cell_type": "markdown",
   "id": "32c17aa0",
   "metadata": {},
   "source": [
    "### Tune switching state model for when using the ideal switching variable value. "
   ]
  },
  {
   "cell_type": "code",
   "execution_count": 9,
   "id": "8cb8f467",
   "metadata": {},
   "outputs": [],
   "source": [
    "tune_params = False"
   ]
  },
  {
   "cell_type": "code",
   "execution_count": 10,
   "id": "cd5f46a0",
   "metadata": {},
   "outputs": [],
   "source": [
    "y_train = [x[\"bpm\"] for x in meta_data_rows]\n",
    "y_test = [x[\"bpm\"] for x in meta_data_rows_test]"
   ]
  },
  {
   "cell_type": "code",
   "execution_count": 11,
   "id": "b5e46cff",
   "metadata": {
    "scrolled": true
   },
   "outputs": [],
   "source": [
    "if tune_params:\n",
    "    onset_process_noise_std_vals = [0.005, 0.01, 0.05, 0.1, 0.2]\n",
    "    tempo_process_noise_std_vals = [0.005, 0.01, 0.05, 0.1, 0.2]\n",
    "    measurement_noise_std_vals = [0.01, 0.1, 0.2]\n",
    "    evaluator = TrackerEvaluator()\n",
    "    best_accuracy = -1\n",
    "    for onset_noise in onset_process_noise_std_vals:\n",
    "        for tempo_noise in tempo_process_noise_std_vals:\n",
    "            for measurement_noise in measurement_noise_std_vals:\n",
    "                # Create argument dictionary\n",
    "                kwargs = {\n",
    "                    \"onset_process_noise_std\": onset_noise,\n",
    "                    \"tempo_process_noise_std\": tempo_noise,\n",
    "                    \"measurement_noise_std\": measurement_noise,\n",
    "                    \"use_ideal_switch_value\": True\n",
    "                }\n",
    "                # Evaluate\n",
    "                accuracy = evaluator.evaluate(SwitchingKalmanFilterTracker, X_train, y_train, **kwargs)\n",
    "                # Report metric if better than any other previous results\n",
    "                if accuracy > best_accuracy:\n",
    "                    print(\"Best accuracy so far: {}\".format(accuracy))\n",
    "                    print(\"Arguments: {}\".format(str(kwargs)))\n",
    "                    best_accuracy = accuracy\n",
    "                    best_params = kwargs"
   ]
  },
  {
   "cell_type": "markdown",
   "id": "fae11cb0",
   "metadata": {},
   "source": [
    "### Evaluate best parameters on test set"
   ]
  },
  {
   "cell_type": "code",
   "execution_count": 12,
   "id": "c4f11326",
   "metadata": {},
   "outputs": [],
   "source": [
    "evaluator = TrackerEvaluator()\n",
    "kwargs = {\n",
    "    \"onset_process_noise_std\": 0.01,\n",
    "    \"tempo_process_noise_std\": 0.005,\n",
    "    \"measurement_noise_std\": 0.1,\n",
    "    \"use_ideal_switch_value\": True\n",
    "}"
   ]
  },
  {
   "cell_type": "code",
   "execution_count": 13,
   "id": "e42bfce5",
   "metadata": {},
   "outputs": [],
   "source": [
    "accuracy = evaluator.evaluate(SwitchingKalmanFilterTracker, X_test, y_test, **kwargs)"
   ]
  },
  {
   "cell_type": "code",
   "execution_count": 14,
   "id": "adfefc4e",
   "metadata": {},
   "outputs": [
    {
     "name": "stdout",
     "output_type": "stream",
     "text": [
      "Test accuracy for ideal switch variable computation 0.8363636363636363\n"
     ]
    }
   ],
   "source": [
    "print(\"Test accuracy for ideal switch variable computation {}\".format(accuracy))"
   ]
  },
  {
   "cell_type": "markdown",
   "id": "5c3dbec9",
   "metadata": {},
   "source": [
    "### Tune PF parameters"
   ]
  },
  {
   "cell_type": "code",
   "execution_count": 15,
   "id": "3c41e799",
   "metadata": {},
   "outputs": [],
   "source": [
    "tune_pf = False"
   ]
  },
  {
   "cell_type": "code",
   "execution_count": 16,
   "id": "c8f090ac",
   "metadata": {
    "scrolled": true
   },
   "outputs": [],
   "source": [
    "if tune_pf:\n",
    "    onset_process_noise_std_vals = [0.005, 0.01, 0.05, 0.1, 0.2]\n",
    "    tempo_process_noise_std_vals = [0.005, 0.01, 0.05, 0.1, 0.2]\n",
    "    measurement_noise_std_vals = [0.01, 0.1, 0.2]\n",
    "    evaluator = TrackerEvaluator()\n",
    "    best_accuracy = -1\n",
    "    for onset_noise in onset_process_noise_std_vals:\n",
    "        for tempo_noise in tempo_process_noise_std_vals:\n",
    "            for measurement_noise in measurement_noise_std_vals:\n",
    "                # Create argument dictionary\n",
    "                kwargs = {\n",
    "                    \"onset_process_noise_std\": onset_noise,\n",
    "                    \"tempo_process_noise_std\": tempo_noise,\n",
    "                    \"measurement_noise_std\": measurement_noise,\n",
    "                    \"use_ideal_switch_value\": False\n",
    "                }\n",
    "                # Evaluate\n",
    "                accuracy = evaluator.evaluate(SwitchingKalmanFilterTracker, X_train, y_train, **kwargs)\n",
    "                # Report metric if better than any other previous results\n",
    "                if accuracy > best_accuracy:\n",
    "                    print(\"Best accuracy so far: {}\".format(accuracy))\n",
    "                    print(\"Arguments: {}\".format(str(kwargs)))\n",
    "                    best_accuracy = accuracy\n",
    "                    best_params = kwargs"
   ]
  },
  {
   "cell_type": "markdown",
   "id": "80a534ba",
   "metadata": {},
   "source": [
    "### Evaluate best parameters on test set"
   ]
  },
  {
   "cell_type": "code",
   "execution_count": 20,
   "id": "08048062",
   "metadata": {},
   "outputs": [],
   "source": [
    "evaluator = TrackerEvaluator()\n",
    "kwargs = {\n",
    "    \"onset_process_noise_std\": 0.005,\n",
    "    \"tempo_process_noise_std\": 0.01,\n",
    "    \"measurement_noise_std\": 0.1,\n",
    "    \"use_ideal_switch_value\": False,\n",
    "    \"particle_no\": 50\n",
    "}"
   ]
  },
  {
   "cell_type": "code",
   "execution_count": 21,
   "id": "54a3e4b1",
   "metadata": {
    "scrolled": false
   },
   "outputs": [],
   "source": [
    "accuracy = evaluator.evaluate(SwitchingKalmanFilterTracker, X_test, y_test, **kwargs)"
   ]
  },
  {
   "cell_type": "code",
   "execution_count": 22,
   "id": "07584c7d",
   "metadata": {},
   "outputs": [
    {
     "name": "stdout",
     "output_type": "stream",
     "text": [
      "0.10909090909090909\n"
     ]
    }
   ],
   "source": [
    "print(accuracy)"
   ]
  }
 ],
 "metadata": {
  "kernelspec": {
   "display_name": "Python 3 (ipykernel)",
   "language": "python",
   "name": "python3"
  },
  "language_info": {
   "codemirror_mode": {
    "name": "ipython",
    "version": 3
   },
   "file_extension": ".py",
   "mimetype": "text/x-python",
   "name": "python",
   "nbconvert_exporter": "python",
   "pygments_lexer": "ipython3",
   "version": "3.9.7"
  }
 },
 "nbformat": 4,
 "nbformat_minor": 5
}
